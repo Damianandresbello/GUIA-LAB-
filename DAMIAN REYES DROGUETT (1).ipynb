{
 "cells": [
  {
   "cell_type": "code",
   "execution_count": 5,
   "metadata": {},
   "outputs": [
    {
     "name": "stdout",
     "output_type": "stream",
     "text": [
      "Ingrese RUT sin verificador: 20210749\n",
      "84\n",
      "El digito verificador es:  4\n"
     ]
    }
   ],
   "source": [
    "#EJERCICIO N°1\n",
    "\n",
    "def rut():\n",
    "    s = [2,3,4,5,6,7,2,3,4,5,6,7]\n",
    "    r = input(\"Ingrese RUT sin verificador: \")\n",
    "    r = r[::-1]\n",
    "    c = 0\n",
    "    d = 0\n",
    "    dv = 12\n",
    "    suma = 0\n",
    "    \n",
    "    while c < len(r):\n",
    "        d = int(r[c])*int(s[c])\n",
    "        suma = suma + d\n",
    "        c = c + 1\n",
    "    print (suma)\n",
    "    v = 11 - (suma % 11)\n",
    "    \n",
    "    if 0 < v < 10:\n",
    "        dv = v\n",
    "    elif v == 11:\n",
    "        dv = 0\n",
    "    elif v == 10:\n",
    "        str(dv)\n",
    "        dv = \"K\"\n",
    "        \n",
    "    print (\"El digito verificador es: \", dv)\n",
    "    \n",
    "rut()"
   ]
  },
  {
   "cell_type": "code",
   "execution_count": 33,
   "metadata": {},
   "outputs": [
    {
     "name": "stdout",
     "output_type": "stream",
     "text": [
      "Este edificio cuenta con 20 pisos\n",
      "ingrese el numero de departamento: 3\n",
      "el precio de este departamento es de $ 200.0\n"
     ]
    }
   ],
   "source": [
    "#EJERCICIO N°2\n",
    "\n",
    "print(\"Este edificio cuenta con 20 pisos\")\n",
    "a=int(input(\"ingrese el numero de departamento: \"))\n",
    "Y=int(a/100)\n",
    "X=int(((a/100)-Y)*100)\n",
    "if(X==205,305,405,505,605,705,805,905,1105,1205,1305,1405,1505,1605,1705,1805,1905):\n",
    "    X=X+1\n",
    "    \n",
    "b=250\n",
    "\n",
    "if(Y== 1):\n",
    "    print(\"el precio del departamento es de $ 100\")\n",
    "elif(Y == 20):\n",
    "    print(\"el precio del departamento es de $ 400\")\n",
    "else:\n",
    "    if(X == 7 or X == 3):\n",
    "        print(\"el precio de este departamento es de $\",(250*1.15))\n",
    "    elif(X == 4 or X == 0):\n",
    "        print(\"el precio de este departamento es de $\",(b*0.8))\n",
    "    else:\n",
    "        print(\"el precio de este departamento es de $\",b)"
   ]
  },
  {
   "cell_type": "code",
   "execution_count": null,
   "metadata": {},
   "outputs": [],
   "source": [
    "#EJERCICIO N°3\n",
    "\n",
    "x = int(input(\"Ingrese el ángulo1: \"))\n",
    "y = int(input(\"Ingrese el ángulo2: \"))\n",
    "z = 180 - (x+y)\n",
    "if x == 90 or y == 90 or z==90:\n",
    "    print(\"Es un triángulo rectángulo\")\n",
    "elif x < 90 and y < 90 and z < 90:\n",
    "    print(\"Es un triángulo acutángulo\")\n",
    "elif x > 90 or y > 90 or z > 90:\n",
    "    print(\"Es un triángulo obtusángulo\")\n",
    "\n"
   ]
  },
  {
   "cell_type": "code",
   "execution_count": 1,
   "metadata": {
    "scrolled": false
   },
   "outputs": [
    {
     "name": "stdout",
     "output_type": "stream",
     "text": [
      "Ingrese Nombre: Damian\n",
      "Ingrese el grado de dificultad: 3.0\n",
      "ingrese puntaje del juez: 4.4\n",
      "ingrese puntaje del juez: 4.4\n",
      "ingrese puntaje del juez: 5.5\n",
      "ingrese puntaje del juez: 5.5\n",
      "ingrese puntaje del juez: 5.5\n",
      "ingrese puntaje del juez: 5.5\n",
      "ingrese puntaje del juez: 5.5\n",
      "el puntaje total es:  52.019999999999996\n"
     ]
    }
   ],
   "source": [
    "#EJERCICIO N°4\n",
    "\n",
    "nombre=input(\"Ingrese Nombre: \")\n",
    "dificultad=float(input(\"Ingrese el grado de dificultad: \"))\n",
    "jueces=7\n",
    "x=0\n",
    "i=0\n",
    "y=0\n",
    "puntajes=[]\n",
    "for i in range(0,jueces) :\n",
    "    x=float(input(\"ingrese puntaje del juez: \")) \n",
    "    x=x+y\n",
    "    puntajes.append(x)\n",
    "    if y==0:\n",
    "        y=1/2\n",
    "puntajes.sort()\n",
    "\n",
    "puntajes.pop(-1)\n",
    "\n",
    "puntajes.pop(0,)\n",
    "\n",
    "r=(puntajes[0]+puntajes[1]+puntajes[2]+puntajes[3]+puntajes[4])*(3/5)\n",
    "r=r*dificultad\n",
    "print(\"el puntaje total es: \",r)\n"
   ]
  },
  {
   "cell_type": "code",
   "execution_count": null,
   "metadata": {},
   "outputs": [],
   "source": []
  }
 ],
 "metadata": {
  "kernelspec": {
   "display_name": "Python 3",
   "language": "python",
   "name": "python3"
  },
  "language_info": {
   "codemirror_mode": {
    "name": "ipython",
    "version": 3
   },
   "file_extension": ".py",
   "mimetype": "text/x-python",
   "name": "python",
   "nbconvert_exporter": "python",
   "pygments_lexer": "ipython3",
   "version": "3.7.3"
  }
 },
 "nbformat": 4,
 "nbformat_minor": 2
}
